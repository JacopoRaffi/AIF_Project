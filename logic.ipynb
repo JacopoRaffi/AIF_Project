{
 "cells": [
  {
   "cell_type": "markdown",
   "metadata": {},
   "source": [
    "# Logic testing (will be deleted)"
   ]
  },
  {
   "cell_type": "code",
   "execution_count": null,
   "metadata": {},
   "outputs": [],
   "source": [
    "import gym\n",
    "import minihack\n",
    "import numpy as np\n",
    "import math\n",
    "import matplotlib.pyplot as plt\n",
    "import IPython.display as display\n",
    "from typing import Tuple, List\n",
    "from utils import *\n",
    "from algorithms import *\n",
    "from logic import *\n"
   ]
  },
  {
   "cell_type": "markdown",
   "metadata": {},
   "source": [
    "# River Normale"
   ]
  },
  {
   "cell_type": "code",
   "execution_count": null,
   "metadata": {},
   "outputs": [],
   "source": [
    "env = gym.make(\"MiniHack-River-Narrow-v0\", observation_keys=(\"chars\", \"pixel\"))\n",
    "state = env.reset()\n",
    "env.render()"
   ]
  },
  {
   "cell_type": "code",
   "execution_count": null,
   "metadata": {},
   "outputs": [],
   "source": [
    "plt.imshow(state['pixel'][100:250, 400:900]) #Immagine ristretta con range [y][x]"
   ]
  },
  {
   "cell_type": "code",
   "execution_count": null,
   "metadata": {},
   "outputs": [],
   "source": [
    "game_map = state['chars']\n",
    "game = state['pixel']"
   ]
  },
  {
   "cell_type": "code",
   "execution_count": null,
   "metadata": {},
   "outputs": [],
   "source": [
    "image = plt.imshow(game[25:300, :475])\n",
    "prev_player_position = get_player_location(game_map)\n",
    "player_positions = []\n",
    "for action in [1,1,1,1,1,1,1,1,1,1,1,1,1,1,1,1,1,1]:\n",
    "    s, _, _, _ = env.step(action)\n",
    "    display.display(plt.gcf())\n",
    "    display.clear_output(wait=True)\n",
    "    image.set_data(s['pixel'][:, :])\n",
    "    player_positions.append(get_player_location(game_map))\n",
    "    time.sleep(0.5)"
   ]
  },
  {
   "cell_type": "markdown",
   "metadata": {},
   "source": [
    "# Nostro River"
   ]
  },
  {
   "cell_type": "code",
   "execution_count": null,
   "metadata": {},
   "outputs": [],
   "source": [
    "from minihack import MiniHackNavigation, LevelGenerator\n",
    "##from minihack.envs import register\n",
    "\n",
    "def new_init_(self, *args, **kwargs):\n",
    "        kwargs[\"max_episode_steps\"] = kwargs.pop(\"max_episode_steps\", 350)\n",
    "        n_monster = kwargs.pop(\"n_monster\", 0)\n",
    "        n_boulder = kwargs.pop(\"n_boulder\", 5)\n",
    "        narrow = kwargs.pop(\"narrow\", False)\n",
    "        lava = kwargs.pop(\"lava\", False)\n",
    "\n",
    "        if narrow:\n",
    "            map = \"\"\"\n",
    "....................W....\n",
    "....................W....\n",
    "....................W....\n",
    "....................W....\n",
    "....................W....\n",
    "....................W....\n",
    "....................W....\n",
    "\"\"\"\n",
    "        elif not lava:\n",
    "            map = \"\"\"\n",
    "..................WWW....\n",
    "..................WWW....\n",
    "..................WWW....\n",
    "..................WWW....\n",
    "..................WWW....\n",
    "..................WWW....\n",
    "..................WWW....\n",
    "\"\"\"\n",
    "        else:\n",
    "            map = \"\"\"\n",
    "..................LLL....\n",
    "..................LLL....\n",
    "..................WWW....\n",
    "..................LLL....\n",
    "..................WWW....\n",
    "..................LLL....\n",
    "..................LLL....\n",
    "\"\"\"\n",
    "\n",
    "        lvl_gen = LevelGenerator(map=map)\n",
    "        lvl_gen.set_start_rect((0, 0), (18, 6))\n",
    "\n",
    "        for _ in range(n_monster):\n",
    "            lvl_gen.add_monster()\n",
    "\n",
    "        lvl_gen.set_area_variable(\n",
    "            \"$boulder_area\", type=\"fillrect\", x1=1, y1=1, x2=18, y2=5\n",
    "        )\n",
    "        for _ in range(n_boulder):\n",
    "            lvl_gen.add_object_area(\n",
    "                \"$boulder_area\", name=\"boulder\", symbol=\"`\"\n",
    "            )\n",
    "\n",
    "        lvl_gen.add_goal_pos((24, 2))\n",
    "\n",
    "        MiniHackNavigation.__init__(self, *args, des_file=lvl_gen.get_des(), **kwargs)\n",
    "\n",
    "\n",
    "\n",
    "minihack.envs.river.MiniHackRiver.__init__ = new_init_  # This is monkey patching.\n"
   ]
  },
  {
   "cell_type": "code",
   "execution_count": null,
   "metadata": {},
   "outputs": [],
   "source": [
    "env = gym.make(\"MiniHack-River-Narrow-v0\", observation_keys=(\"chars\", \"pixel\"))\n",
    "state = env.reset()\n",
    "env.render()"
   ]
  },
  {
   "cell_type": "code",
   "execution_count": null,
   "metadata": {},
   "outputs": [],
   "source": [
    "plt.imshow(state['pixel'][100:250, 400:900]) #Immagine ristretta con range [y][x]"
   ]
  },
  {
   "cell_type": "code",
   "execution_count": null,
   "metadata": {},
   "outputs": [],
   "source": [
    "game_map = state['chars']\n",
    "game = state['pixel']"
   ]
  },
  {
   "cell_type": "code",
   "execution_count": null,
   "metadata": {},
   "outputs": [],
   "source": [
    "image = plt.imshow(game[25:300, :475])\n",
    "prev_player_position = get_player_location(game_map)\n",
    "player_positions = []\n",
    "for action in [1,1,1,1,1,1,1,1,1,1,1,1,1,1,1,1,1,1]:\n",
    "    s, _, _, _ = env.step(action)\n",
    "    display.display(plt.gcf())\n",
    "    display.clear_output(wait=True)\n",
    "    image.set_data(s['pixel'][:, :])\n",
    "    player_positions.append(get_player_location(game_map))\n",
    "    time.sleep(0.5)"
   ]
  },
  {
   "cell_type": "markdown",
   "metadata": {},
   "source": [
    "# Creare ambiente con des-file"
   ]
  },
  {
   "cell_type": "code",
   "execution_count": null,
   "metadata": {},
   "outputs": [],
   "source": [
    "# Importing helper visualisation functions\n",
    "from minihack.tiles.rendering import get_des_file_rendering\n",
    "\n",
    "import IPython.display\n",
    "def render_des_file(des_file, **kwargs):\n",
    "    image = get_des_file_rendering(des_file, **kwargs)\n",
    "    IPython.display.display(image)"
   ]
  },
  {
   "cell_type": "code",
   "execution_count": null,
   "metadata": {},
   "outputs": [],
   "source": [
    "des_file = \"\"\"\n",
    "MAZE: \"mylevel\", ' '\n",
    "FLAGS: premapped\n",
    "GEOMETRY: center, center\n",
    "MAP\n",
    "|-------------------------|\n",
    "|....................}....|\n",
    "|....................}....|\n",
    "|....................}....|\n",
    "|....................}....|\n",
    "|....................}....|\n",
    "|....................}....|\n",
    "|....................}....|\n",
    "|-------------------------|\n",
    "ENDMAP\n",
    "OBJECT:('`', \"boulder\"), rndcoord(fillrect(01,01,19,06))\n",
    "OBJECT:('`', \"boulder\"), rndcoord(fillrect(01,01,19,06))\n",
    "OBJECT:('`', \"boulder\"), rndcoord(fillrect(01,01,19,06))\n",
    "OBJECT:('`', \"boulder\"), rndcoord(fillrect(01,01,19,06))\n",
    "OBJECT:('`', \"boulder\"), rndcoord(fillrect(01,01,19,06))\n",
    "LADDER: rndcoord(fillrect(01,01,19,06)), up\n",
    "LADDER: rndcoord(fillrect(22,01,25,06)), down\n",
    "\"\"\"\n",
    "render_des_file(des_file, n_images=1, full_screen=False)"
   ]
  }
 ],
 "metadata": {
  "kernelspec": {
   "display_name": "minihack",
   "language": "python",
   "name": "python3"
  },
  "language_info": {
   "codemirror_mode": {
    "name": "ipython",
    "version": 3
   },
   "file_extension": ".py",
   "mimetype": "text/x-python",
   "name": "python",
   "nbconvert_exporter": "python",
   "pygments_lexer": "ipython3",
   "version": "3.9.10"
  }
 },
 "nbformat": 4,
 "nbformat_minor": 2
}
