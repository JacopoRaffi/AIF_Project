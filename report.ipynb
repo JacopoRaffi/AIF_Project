{
 "cells": [
  {
   "cell_type": "markdown",
   "metadata": {},
   "source": [
    "# Minihack Crossing River\n",
    "Team: Can do (M)AI \\\n",
    "Members: Andrea Piras, Chiara Cecchetti, Jacopo Raffi, Nicola Emmolo\n",
    "Course: Artificial AI Fundamentals 2023/2024\n",
    "\n",
    "## Introduction\n",
    "The project Minihack Crossing River is based on the standard environment \"River\" of the MiniHack Environment Zoo (https://minihack.readthedocs.io/en/latest/envs/navigation/river.html).\n",
    "The final goal of the agent in this task is to reach the stairs which are in the other side of the river. To cross the river the agent mush push one boulder into the it which becomes crossable and finally he can reach the stairs.\n",
    "\n",
    "The goal of this project is to find a solution that is able to complete as much games as possibile in the most efficient way in time and in the number of steps done.\n",
    "\n",
    "## Methodologies\n",
    "We will show two solutions, the first one is the classic A star algorithm. And the second, our custom solution which we call Online A star which is based on the classic A star algorithm enhanced with a knowledge based approach.\n",
    "\n",
    "## Assessment\n",
    "At the end of this notebook, we show an empirical evaluation comparing the two proposed solutions. In particular we will show the metrics:\n",
    "* The percentage of successfully completed games out of n trials\n",
    "* The average number of steps done on successfull games\n",
    "* The execution time on successfull games\n",
    " "
   ]
  },
  {
   "cell_type": "markdown",
   "metadata": {},
   "source": []
  },
  {
   "cell_type": "markdown",
   "metadata": {},
   "source": [
    "## Imports required"
   ]
  },
  {
   "cell_type": "code",
   "execution_count": 1,
   "metadata": {},
   "outputs": [],
   "source": [
    "import gym\n",
    "import minihack\n",
    "import numpy as np\n",
    "import math\n",
    "import matplotlib.pyplot as plt\n",
    "import IPython.display as display\n",
    "from typing import Tuple, List\n",
    "from utils import *\n",
    "from algorithms import *\n",
    "from logic import *\n",
    "from evaluation import *"
   ]
  },
  {
   "cell_type": "markdown",
   "metadata": {},
   "source": [
    "# Solution 1: A star\n",
    "The first solution that we propose is using the classic A star algorithm with some basic logic that is used just to find the objects and to push correctly the boulder into the river.\n",
    "We anticipate that this solution cannot solve an high percentage of the games, but it's is usefull to show how it works because is the starting point of our custom solution \"Online A star\"."
   ]
  },
  {
   "cell_type": "markdown",
   "metadata": {},
   "source": [
    "## Environment\n",
    "First we create and visualize the environment using \"Minihack-River-Narrow-V0\", one of the standard environments of MiniHack Environment Zoo. The environment without any seeds changes at each execution (following a random uniform distribution) including the starting position of the agent, the boulder, the river and the visibility (black cells).\n",
    "\n",
    "To simplify the reading and execution of this report we have chosen to give a seed at the creation of the environment resulting in a case that this solution can solve. As stated above, this solution is not able to solve many maps and we will quantify this percentage in the Evaluation section. "
   ]
  },
  {
   "cell_type": "code",
   "execution_count": 2,
   "metadata": {},
   "outputs": [
    {
     "data": {
      "image/png": "[encoded data removed]",
      "text/plain": [
       "<Figure size 640x480 with 1 Axes>"
      ]
     },
     "metadata": {},
     "output_type": "display_data"
    }
   ],
   "source": [
    "seeds = [8]\n",
    "state, env = create_env(seeds)\n",
    "plt.imshow(state['pixel'][100:250, 400:750])\n",
    "game_map = state['chars']\n",
    "game = state['pixel']\n",
    "color_map = state['colors']"
   ]
  },
  {
   "cell_type": "markdown",
   "metadata": {},
   "source": [
    "## Agent, boulder, river\n",
    "Now that the environment is created we find the coordinates of the the agent, boulders and river. Once we have obtained all the coordinates we select the boulder to push and the river cell in which the boulder has to be pushed."
   ]
  },
  {
   "cell_type": "code",
   "execution_count": 3,
   "metadata": {},
   "outputs": [
    {
     "name": "stdout",
     "output_type": "stream",
     "text": [
      "Agent starting position:  (9, 35) Boulders positions:  [(8, 32), (9, 29), (9, 38), (10, 29), (12, 30)] River positions:  [(7, 46), (11, 46), (12, 46), (13, 46)]\n"
     ]
    }
   ],
   "source": [
    "start = get_player_location(game_map)\n",
    "boulders = get_boulder_locations(game_map, [])\n",
    "river_positions = find_river(env,game_map, [])\n",
    "print(\"Agent starting position: \", start, \"Boulders positions: \", boulders, \"River positions: \", river_positions)"
   ]
  },
  {
   "cell_type": "markdown",
   "metadata": {},
   "source": [
    "We select the most convenient boulder to push into the the river, once it is computed we find the river cell in which the boulder has to be dropped."
   ]
  },
  {
   "cell_type": "code",
   "execution_count": 4,
   "metadata": {},
   "outputs": [
    {
     "name": "stdout",
     "output_type": "stream",
     "text": [
      "Boulder to push:  (9, 38) River cell of destination:  (7, 46)\n"
     ]
    }
   ],
   "source": [
    "coordinates_min_boulder = get_best_global_distance(start, boulders, river_positions)\n",
    "temp = get_min_distance_point_to_points(coordinates_min_boulder[0],coordinates_min_boulder[1], river_positions)\n",
    "final_position = tuple(temp[0])\n",
    "print(\"Boulder to push: \", coordinates_min_boulder, \"River cell of destination: \", final_position)"
   ]
  },
  {
   "cell_type": "markdown",
   "metadata": {},
   "source": [
    "# Path\n",
    "In this section we use the classic A star algorithm to compute the path first from the boulder to the river, then from the agent to the boulder pushing positions.\n",
    "The boulder pushing position is the cell in which the agent has to be to push the boulder in the correct direction.\n",
    "\n",
    "TODO: talk about chebyshev and a star in general\n",
    "\n",
    "We compute in this order:\n",
    "* The path that the boulder has to follow to reach the correct river cell\n",
    "* The correct pushing position of the boulder\n",
    "* The path that agent has to follow to reach the pushing position"
   ]
  },
  {
   "cell_type": "code",
   "execution_count": 5,
   "metadata": {},
   "outputs": [],
   "source": [
    "path_boulder_river = a_star(game_map, coordinates_min_boulder,final_position, True, False, get_optimal_distance_point_to_point)\n",
    "pushing_position = position_for_boulder_push(coordinates_min_boulder, path_boulder_river[1])[1]\n",
    "path_player_to_pushing_position = a_star(game_map, start,  pushing_position,False,False, get_optimal_distance_point_to_point)\n"
   ]
  },
  {
   "cell_type": "markdown",
   "metadata": {},
   "source": [
    "After we have computed the path that the boulder has to do to reach the river, we have to derive from it the path that the agent has to do in order to follow the boulder pushing it. Finally we obtain the full path that the agent has to do to reach the river."
   ]
  },
  {
   "cell_type": "code",
   "execution_count": 6,
   "metadata": {},
   "outputs": [],
   "source": [
    "try:\n",
    "    _, path_player_to_river = push_boulder_path(path_boulder_river)\n",
    "    path_player_to_river = path_player_to_river[1:] # Remove the first element because the agent is already in the pushing position\n",
    "    agent_full_path = path_player_to_pushing_position + path_player_to_river\n",
    "    agent_full_path.append(path_boulder_river[-1]) # Add the river position so the agent steps where there was the river\n",
    "except Exception as e:\n",
    "    print(\"An error occurred:\", str(e))\n"
   ]
  },
  {
   "cell_type": "markdown",
   "metadata": {},
   "source": [
    "## Steps\n",
    "In this section we translate the path obtained in actual actions and we execute the steps to push the boulder into the river.\n"
   ]
  },
  {
   "cell_type": "code",
   "execution_count": 7,
   "metadata": {},
   "outputs": [
    {
     "name": "stdout",
     "output_type": "stream",
     "text": [
      "0.0\n",
      "0.0\n",
      "0.0\n",
      "0.0\n",
      "0.0\n",
      "0.0\n",
      "0.0\n",
      "0.0\n",
      "0.0\n",
      "0.0\n",
      "0.0\n",
      "0.0\n",
      "0.0\n",
      "0.0\n"
     ]
    },
    {
     "data": {
      "text/plain": [
       "[0.0, 0.0, 0.0, 0.0, 0.0, 0.0, 0.0, 0.0, 0.0, 0.0, 0.0, 0.0, 0.0, 0.0]"
      ]
     },
     "execution_count": 7,
     "metadata": {},
     "output_type": "execute_result"
    },
    {
     "data": {
      "image/png": "[encoded data removed]",
      "text/plain": [
       "<Figure size 640x480 with 1 Axes>"
      ]
     },
     "metadata": {},
     "output_type": "display_data"
    }
   ],
   "source": [
    "actions, names = actions_from_path(start, agent_full_path) \n",
    "plot_animated_sequence(env,game, game_map,actions[1:]) #Remove first action because it is the start position"
   ]
  },
  {
   "cell_type": "markdown",
   "metadata": {},
   "source": [
    "## Finding the stairs\n",
    "Now that the river should be crossable the agent can see, find and go torwards the stairs to complete is goal.\n",
    "To evaluate if the agent completed is goal we use the reward system of MiniHack that for each step returns:\n",
    "* 0.0 if the agent has not completed the goal\n",
    "* -0.1 if the agent is stuck (The agent did a step but he stayied in the same position)\n",
    "* 1 if the agent has stepped in the coordinates of the stairs"
   ]
  },
  {
   "cell_type": "markdown",
   "metadata": {},
   "source": []
  },
  {
   "cell_type": "code",
   "execution_count": 8,
   "metadata": {},
   "outputs": [
    {
     "name": "stdout",
     "output_type": "stream",
     "text": [
      "0.0\n",
      "0.0\n",
      "0.0\n",
      "1.0\n",
      "The agent reached the exit\n"
     ]
    },
    {
     "data": {
      "image/png": "[encoded data removed]",
      "text/plain": [
       "<Figure size 640x480 with 1 Axes>"
      ]
     },
     "metadata": {},
     "output_type": "display_data"
    }
   ],
   "source": [
    "player_pos = get_player_location(game_map)\n",
    "exit_pos = find_stairs(env, game_map)\n",
    "\n",
    "if(exit_pos is None):\n",
    "    print(\"The agent doesn't see the stairs\")\n",
    "else:\n",
    "    path_to_exit = a_star(game_map, player_pos, exit_pos, False, False, get_optimal_distance_point_to_point)\n",
    "    actions_to_exit,names = actions_from_path(player_pos, path_to_exit)\n",
    "    rewards = plot_animated_sequence(env,game, game_map,actions_to_exit[1:]) \n",
    "\n",
    "if(rewards[-1] == 1):\n",
    "    print(\"The agent reached the exit\")\n",
    "else:\n",
    "    print(\"The agent didn't reach the exit\")"
   ]
  },
  {
   "cell_type": "markdown",
   "metadata": {},
   "source": [
    "# Solution 2: Online A star\n",
    "We show now our custom solution \"Online A star\" which combines the power of the A star algorithms with the knowledge base logic"
   ]
  },
  {
   "cell_type": "markdown",
   "metadata": {},
   "source": [
    "## Logic \n",
    "TODO: explain what the logic does"
   ]
  },
  {
   "cell_type": "markdown",
   "metadata": {},
   "source": [
    "## Environment\n",
    "We create the environment again, this time we don't give a fixed seed so that the environment is generated randomly at each execution."
   ]
  },
  {
   "cell_type": "code",
   "execution_count": 1,
   "metadata": {},
   "outputs": [],
   "source": [
    "import gym\n",
    "import minihack\n",
    "import numpy as np\n",
    "import math\n",
    "import matplotlib.pyplot as plt\n",
    "import IPython.display as display\n",
    "from typing import Tuple, List\n",
    "from utils import *\n",
    "from algorithms import *\n",
    "from logic import *\n",
    "from evaluation import *"
   ]
  },
  {
   "cell_type": "code",
   "execution_count": 2,
   "metadata": {},
   "outputs": [
    {
     "data": {
      "image/png": "[encoded data removed]",
      "text/plain": [
       "<Figure size 640x480 with 1 Axes>"
      ]
     },
     "metadata": {},
     "output_type": "display_data"
    }
   ],
   "source": [
    "state, env = create_env()\n",
    "plt.imshow(state['pixel'][100:250, 400:750]) \n",
    "game_map = state['chars']\n",
    "game = state['pixel']\n",
    "color_map = state['colors']"
   ]
  },
  {
   "cell_type": "code",
   "execution_count": 3,
   "metadata": {},
   "outputs": [
    {
     "data": {
      "image/png": "[encoded data removed]",
      "text/plain": [
       "<Figure size 640x480 with 1 Axes>"
      ]
     },
     "metadata": {},
     "output_type": "display_data"
    }
   ],
   "source": [
    "black_list_boulder  = []\n",
    "obs, current_river_target, len = push_one_boulder_into_river(state, env, black_list_boulder, plot=True)\n",
    "while current_river_target is None or obs['chars'][current_river_target] == ord(\"}\"):\n",
    "    obs, current_river_target, len = push_one_boulder_into_river(obs, env, black_list_boulder, plot=True)\n",
    "\n",
    "game_map = obs['chars']\n",
    "game_gui = obs['pixel']\n",
    "\n",
    "#Step into the river\n",
    "player_pos = get_player_location(game_map)\n",
    "action, name = action_map(player_pos, current_river_target)\n",
    "obs, _,_,_ = env.step(action)\n"
   ]
  },
  {
   "cell_type": "code",
   "execution_count": 4,
   "metadata": {},
   "outputs": [
    {
     "name": "stdout",
     "output_type": "stream",
     "text": [
      "0.0\n",
      "0.0\n",
      "0.0\n",
      "1.0\n",
      "The agent reached the exit\n"
     ]
    },
    {
     "data": {
      "image/png": "[encoded data removed]",
      "text/plain": [
       "<Figure size 640x480 with 1 Axes>"
      ]
     },
     "metadata": {},
     "output_type": "display_data"
    }
   ],
   "source": [
    "#Go to the stairs\n",
    "game_map = obs['chars']\n",
    "game_gui = obs['pixel']\n",
    "\n",
    "player_pos = get_player_location(game_map)\n",
    "exit_pos = get_exit_location(game_map)\n",
    "\n",
    "path_to_exit = a_star(game_map, player_pos, exit_pos, False, False, get_optimal_distance_point_to_point)\n",
    "actions_to_exit,names = actions_from_path(player_pos, path_to_exit[1:])\n",
    "rewards = plot_animated_sequence(env, game_gui, game_map, actions_to_exit)\n",
    "\n",
    "if(rewards[-1] == 1):\n",
    "    print(\"The agent reached the exit\")"
   ]
  },
  {
   "cell_type": "markdown",
   "metadata": {},
   "source": [
    "# Evaluation\n",
    "In this section we perform multiple trials on the two solutions showing the metrics:\n",
    "* The percentage of successfully completed games out of n trials\n",
    "* The average number of steps done on successfull games\n",
    "* The execution time on successfull games"
   ]
  },
  {
   "cell_type": "code",
   "execution_count": 5,
   "metadata": {},
   "outputs": [
    {
     "name": "stdout",
     "output_type": "stream",
     "text": [
      "\n",
      "Starting test: A* classic\n",
      "\n",
      "Successfully completed:  56 / 100  =  56.00000000000001 %\n",
      "Average number of steps:  17.142857142857142\n",
      "Average time per success:  0.07232209188597542 \n",
      "\n",
      "Average total succesfully completed:  56.00000000000001 %\n",
      "Average total steps:  17.142857142857142\n",
      "Average total time:  0.07232209188597542 \n",
      "\n"
     ]
    }
   ],
   "source": [
    "test_classic_a_star(100, 1) # number of games, trials"
   ]
  },
  {
   "cell_type": "code",
   "execution_count": 6,
   "metadata": {},
   "outputs": [
    {
     "name": "stdout",
     "output_type": "stream",
     "text": [
      "\n",
      "Starting test: A* online\n",
      "\n",
      "Successfully completed:  99 / 100  =  99.0 %\n",
      "Average number of steps:  20.717171717171716\n",
      "Average time per success:  0.10613737925134524 \n",
      "\n",
      "Average total succesfully completed:  99.0 %\n",
      "Average total steps:  20.717171717171716\n",
      "Average total time:  0.10613737925134524 \n",
      "\n"
     ]
    }
   ],
   "source": [
    "test_online_a_star(100, 1)"
   ]
  },
  {
   "cell_type": "markdown",
   "metadata": {},
   "source": [
    "## Results\n",
    "This are the results that we have obtained executing x games for y trials\n",
    "\n",
    "TODO: show image with the results (the same of the presentation with updated results)\n",
    "\n",
    "\n",
    "TODO: write comments on the results"
   ]
  },
  {
   "cell_type": "markdown",
   "metadata": {},
   "source": []
  },
  {
   "cell_type": "markdown",
   "metadata": {},
   "source": [
    "## TorchBeast\n",
    "https://minihack.readthedocs.io/en/latest/agents/torchbeast.html \\\n",
    "https://wandb.ai/minihack/minihack-navigation/groups/River-Narrow-RIDE/?workspace=user- \\"
   ]
  },
  {
   "cell_type": "markdown",
   "metadata": {},
   "source": [
    "# Conclusions"
   ]
  },
  {
   "cell_type": "markdown",
   "metadata": {},
   "source": [
    "# Appendix\n",
    "\n",
    "### Teamwork \n",
    "After we have chosen a this project with unanimity, for the first weeks we splitted the work in two main task \"Path\" and \"Logic\". This has made easy to work with a pair programming approach in 2 groups, communicating the functions required from each other. Following this organization really boosted the initial productivity. Finally we did a merge of the \"Path\" and \"Logic\" modules. \\\n",
    "From this point we did a meeting every week to updated a pool of task available so that each member could contribute indipendently, going back to the pair programming approach just for the hardest problems. \\\n",
    "For the presentation we splitted in exact equal parts the slides and time of speech.\n",
    "\n",
    "\n",
    "### Github\n",
    "\n",
    "### Relationship with the course ???"
   ]
  },
  {
   "cell_type": "markdown",
   "metadata": {},
   "source": []
  }
 ],
 "metadata": {
  "kernelspec": {
   "display_name": "minihack",
   "language": "python",
   "name": "python3"
  },
  "language_info": {
   "codemirror_mode": {
    "name": "ipython",
    "version": 3
   },
   "file_extension": ".py",
   "mimetype": "text/x-python",
   "name": "python",
   "nbconvert_exporter": "python",
   "pygments_lexer": "ipython3",
   "version": "3.9.10"
  }
 },
 "nbformat": 4,
 "nbformat_minor": 2
}
