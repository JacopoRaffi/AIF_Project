{
 "cells": [
  {
   "cell_type": "markdown",
   "metadata": {},
   "source": [
    "# Minihack Crossing River\n",
    "**Team**: Can do (M)AI \\\n",
    "**Members**: Chiara Cecchetti, Nicola Emmolo, Andrea Piras, Jacopo Raffi \\\n",
    "**Course**: Artificial Intelligence Fundamentals 2023/2024\n",
    "\n",
    "## Introduction\n",
    "The project is based on the standard \"River\" environment from the MiniHack Environment Zoo (https://minihack.readthedocs.io/en/latest/envs/navigation/river.html).\\\n",
    "The final goal of the agent is to reach the stairs, which are on the other side of the river. To do this, the agent must push a boulder into the river. After that the agent can cross it; in Nethack, swimming across a river could prove fatal for the agent.\n",
    "\n",
    "The goal of the project is to find a solution that is able to complete as many games as possible in the most efficient way in terms of the number of steps performed.\n",
    "\n",
    "### Methodologies\n",
    "Two solutions to the problem are described and analyzed in the notebook. The first basic solution is an offline approach to the problem, the agent simply executes the initial computed plan without considering changes in the environment. \\\n",
    "However, as will be shown later, this is not sufficient, so an online approach was developed to solve the problem. In both solutions, pathfinding is based on the classic A* algorithm in order to optimize the number of steps performed by the agent.\n",
    "\n",
    "### Assessment\n",
    "At the end of the notebook, the empirical evaluations carried out for the assesment of the final solution are presented. In particular, three metrics are considered:\n",
    "* The percentage of success;\n",
    "* The average number of steps;\n",
    "* The average execution time.\n",
    " "
   ]
  },
  {
   "cell_type": "markdown",
   "metadata": {},
   "source": [
    "## Imports required"
   ]
  },
  {
   "cell_type": "code",
   "execution_count": 1,
   "metadata": {},
   "outputs": [
    {
     "name": "stderr",
     "output_type": "stream",
     "text": [
      "/home/jacopo/minihack/lib/python3.9/site-packages/ale_py/roms/__init__.py:89: DeprecationWarning: Automatic importing of atari-py roms won't be supported in future releases of ale-py. Please migrate over to using `ale-import-roms` OR an ALE-supported ROM package. To make this warning disappear you can run `ale-import-roms --import-from-pkg atari_py.atari_roms`.For more information see: https://github.com/mgbellemare/Arcade-Learning-Environment#rom-management\n",
      "  ROMS = resolve_roms()\n"
     ]
    }
   ],
   "source": [
    "import gym\n",
    "import minihack\n",
    "import numpy as np\n",
    "import math\n",
    "import matplotlib.pyplot as plt\n",
    "import IPython.display as display\n",
    "from typing import Tuple, List\n",
    "from utils import *\n",
    "from algorithms import *\n",
    "from logic import *\n",
    "from evaluation import *"
   ]
  },
  {
   "cell_type": "markdown",
   "metadata": {},
   "source": [
    "## MInihack River Environment\n",
    "Befor discussing both solutions, it is important to describe the environment in which the agent performs its plans.\\\n",
    "Taking into account the standard description, the environment's types are as follows:\n",
    "- Partially observable;\n",
    "- Non-Deterministic;\n",
    "- Episodic;\n",
    "- Static, the state doesn't change until the agent has performed an action and there is no time limit for choosing an action;\n",
    "- Discrete;\n",
    "- Single-agent.\n",
    "\n",
    "The environment \"Minihack-River-Narrow-V0\", one of the standard environments of the MiniHack Environment Zoo, without any fixed seeds changes at each execution following a random uniform distribution. In particular, the initial position of the agent, the position of the boulders and consequently the visibility of the environment(including the visibility of the river) change.\n",
    "\n",
    "To make this report easier to read and follow, the seeds for creating the environment are fixed, but only for the demonstration parts.\\\n",
    "The evaluation takes into account environments that changes at each execution."
   ]
  },
  {
   "cell_type": "code",
   "execution_count": 6,
   "metadata": {},
   "outputs": [
    {
     "data": {
      "image/png": "[encoded data removed]",
      "text/plain": [
       "<Figure size 640x480 with 1 Axes>"
      ]
     },
     "metadata": {},
     "output_type": "display_data"
    }
   ],
   "source": [
    "state, env = create_env() # create the environment without fixed seed\n",
    "plt.imshow(state['pixel'][100:250, 400:750]) \n",
    "game_map = state['chars'] # state of the game map\n",
    "game = state['pixel']"
   ]
  },
  {
   "cell_type": "markdown",
   "metadata": {},
   "source": [
    "# Solution 1: A star\n",
    "The first solution that we propose is using the classic A star algorithm with some basic logic that is used just to find the objects and to push correctly the boulder into the river.\n",
    "We anticipate that this solution cannot solve an high percentage of the games, but it's is usefull to show how it works because is the starting point of our custom solution \"Online A star\"."
   ]
  },
  {
   "cell_type": "markdown",
   "metadata": {},
   "source": [
    "## Agent, boulder, river\n",
    "Now that the environment is created we find the coordinates of the the agent, boulders and river. Once we have obtained all the coordinates we select the boulder to push and the river cell in which the boulder has to be pushed."
   ]
  },
  {
   "cell_type": "code",
   "execution_count": 3,
   "metadata": {},
   "outputs": [
    {
     "name": "stdout",
     "output_type": "stream",
     "text": [
      "Agent starting position:  (9, 35) Boulders positions:  [(8, 32), (9, 29), (9, 38), (10, 29), (12, 30)] River positions:  [(7, 46), (11, 46), (12, 46), (13, 46)]\n"
     ]
    }
   ],
   "source": [
    "start = get_player_location(game_map)\n",
    "boulders = get_boulder_locations(game_map, [])\n",
    "river_positions = find_river(env,game_map, [])\n",
    "print(\"Agent starting position: \", start, \"Boulders positions: \", boulders, \"River positions: \", river_positions)"
   ]
  },
  {
   "cell_type": "markdown",
   "metadata": {},
   "source": [
    "We select the most convenient boulder to push into the the river, once it is computed we find the river cell in which the boulder has to be dropped."
   ]
  },
  {
   "cell_type": "code",
   "execution_count": 4,
   "metadata": {},
   "outputs": [
    {
     "name": "stdout",
     "output_type": "stream",
     "text": [
      "Boulder to push:  (9, 38) River cell of destination:  (7, 46)\n"
     ]
    }
   ],
   "source": [
    "coordinates_min_boulder = get_best_global_distance(start, boulders, river_positions)\n",
    "temp = get_min_distance_point_to_points(coordinates_min_boulder[0],coordinates_min_boulder[1], river_positions)\n",
    "final_position = tuple(temp[0])\n",
    "print(\"Boulder to push: \", coordinates_min_boulder, \"River cell of destination: \", final_position)"
   ]
  },
  {
   "cell_type": "markdown",
   "metadata": {},
   "source": [
    "# Path\n",
    "In this section we use the classic A star algorithm to compute the path first from the boulder to the river, then from the agent to the boulder pushing positions.\n",
    "The boulder pushing position is the cell in which the agent has to be to push the boulder in the correct direction.\n",
    "\n",
    "TODO: talk about chebyshev and a star in general\n",
    "\n",
    "We compute in this order:\n",
    "* The path that the boulder has to follow to reach the correct river cell\n",
    "* The correct pushing position of the boulder\n",
    "* The path that agent has to follow to reach the pushing position"
   ]
  },
  {
   "cell_type": "code",
   "execution_count": 5,
   "metadata": {},
   "outputs": [],
   "source": [
    "path_boulder_river = a_star(game_map, coordinates_min_boulder,final_position, True, False, get_optimal_distance_point_to_point)\n",
    "pushing_position = position_for_boulder_push(coordinates_min_boulder, path_boulder_river[1])[1]\n",
    "path_player_to_pushing_position = a_star(game_map, start,  pushing_position,False,False, get_optimal_distance_point_to_point)\n"
   ]
  },
  {
   "cell_type": "markdown",
   "metadata": {},
   "source": [
    "After we have computed the path that the boulder has to do to reach the river, we have to derive from it the path that the agent has to do in order to follow the boulder pushing it. Finally we obtain the full path that the agent has to do to reach the river."
   ]
  },
  {
   "cell_type": "code",
   "execution_count": 6,
   "metadata": {},
   "outputs": [],
   "source": [
    "try:\n",
    "    _, path_player_to_river = push_boulder_path(path_boulder_river)\n",
    "    path_player_to_river = path_player_to_river[1:] # Remove the first element because the agent is already in the pushing position\n",
    "    agent_full_path = path_player_to_pushing_position + path_player_to_river\n",
    "    agent_full_path.append(path_boulder_river[-1]) # Add the river position so the agent steps where there was the river\n",
    "except Exception as e:\n",
    "    print(\"Offline A* failed:\", str(e))\n"
   ]
  },
  {
   "cell_type": "markdown",
   "metadata": {},
   "source": [
    "## Steps\n",
    "In this section we translate the path obtained in actual actions and we execute the steps to push the boulder into the river.\n"
   ]
  },
  {
   "cell_type": "code",
   "execution_count": 7,
   "metadata": {},
   "outputs": [
    {
     "name": "stdout",
     "output_type": "stream",
     "text": [
      "0.0\n",
      "0.0\n",
      "0.0\n",
      "0.0\n",
      "0.0\n",
      "0.0\n",
      "0.0\n",
      "0.0\n",
      "0.0\n",
      "0.0\n",
      "0.0\n",
      "0.0\n",
      "0.0\n",
      "0.0\n"
     ]
    },
    {
     "data": {
      "text/plain": [
       "[0.0, 0.0, 0.0, 0.0, 0.0, 0.0, 0.0, 0.0, 0.0, 0.0, 0.0, 0.0, 0.0, 0.0]"
      ]
     },
     "execution_count": 7,
     "metadata": {},
     "output_type": "execute_result"
    },
    {
     "data": {
      "image/png": "[encoded data removed]",
      "text/plain": [
       "<Figure size 640x480 with 1 Axes>"
      ]
     },
     "metadata": {},
     "output_type": "display_data"
    }
   ],
   "source": [
    "actions, names = actions_from_path(start, agent_full_path) \n",
    "plot_animated_sequence(env,game, game_map,actions[1:]) #Remove first action because it is the start position"
   ]
  },
  {
   "cell_type": "markdown",
   "metadata": {},
   "source": [
    "## Finding the stairs\n",
    "Now that the river should be crossable the agent can see, find and go torwards the stairs to complete is goal.\n",
    "To evaluate if the agent completed is goal we use the reward system of MiniHack that for each step returns:\n",
    "* 0.0 if the agent has not completed the goal\n",
    "* -0.1 if the agent is stuck (The agent did a step but he stayied in the same position)\n",
    "* 1 if the agent has stepped in the coordinates of the stairs"
   ]
  },
  {
   "cell_type": "markdown",
   "metadata": {},
   "source": []
  },
  {
   "cell_type": "code",
   "execution_count": 8,
   "metadata": {},
   "outputs": [
    {
     "name": "stdout",
     "output_type": "stream",
     "text": [
      "0.0\n",
      "0.0\n",
      "0.0\n",
      "1.0\n",
      "The agent reached the exit\n"
     ]
    },
    {
     "data": {
      "image/png": "[encoded data removed]",
      "text/plain": [
       "<Figure size 640x480 with 1 Axes>"
      ]
     },
     "metadata": {},
     "output_type": "display_data"
    }
   ],
   "source": [
    "player_pos = get_player_location(game_map)\n",
    "exit_pos = find_stairs(env, game_map)\n",
    "\n",
    "if(exit_pos is None):\n",
    "    print(\"The agent doesn't see the stairs\")\n",
    "else:\n",
    "    path_to_exit = a_star(game_map, player_pos, exit_pos, False, False, get_optimal_distance_point_to_point)\n",
    "    actions_to_exit,names = actions_from_path(player_pos, path_to_exit)\n",
    "    rewards = plot_animated_sequence(env,game, game_map,actions_to_exit[1:]) \n",
    "\n",
    "if(rewards[-1] == 1):\n",
    "    print(\"The agent reached the exit\")\n",
    "else:\n",
    "    print(\"The agent didn't reach the exit\")"
   ]
  },
  {
   "cell_type": "markdown",
   "metadata": {},
   "source": [
    "# Solution 2: Online A star\n",
    "We show now our custom solution \"Online A star\" which combines the power of the A star algorithms with the knowledge base logic"
   ]
  },
  {
   "cell_type": "markdown",
   "metadata": {},
   "source": [
    "## Logic \n",
    "In this section we explain what the logic does, considering what we know about the environment"
   ]
  },
  {
   "cell_type": "markdown",
   "metadata": {},
   "source": [
    "### Valid moves - get_valid_moves()\n",
    "\n",
    "The `get_valid_moves()` function is used to determine all the valid moves a player can make from a current position on a game map.\n",
    "The function takes five parameters:\n",
    "* `game_map`: represents the game map as a matrix\n",
    "* `current_position`: the current position of the agent on the map\n",
    "* `target_position`: the target position of the agent on the map\n",
    "* `hasBoulder`: indicates whether the agent has a boulder\n",
    "* `boulder_is_obstacle`: indicates whether the boulder is considered an obstacle\n",
    "\n",
    "The function first determines the limits of the game map. It then checks each possible move (North, East, South, West, North-East, South-East, South-West, North-West) to see if it is within the game map boundaries and not an obstacle. If the move is valid, it is added to the valid list.\n",
    "\n",
    "The function also checks if the agent has a boulder and if the next move is a river:\n",
    "* If the agent has a boulder, it can move to the next position regardless of whether it's a river or not\n",
    "* If the agent doesn't have a boulder, it can only move to the next position if it's not a river.\n",
    "\n",
    "Finally, the function returns the valid list, witch contains all the valid moves the agent can make from the current position."
   ]
  },
  {
   "cell_type": "markdown",
   "metadata": {},
   "source": [
    "### Avoid the obstacle - avoid_obstacle()\n",
    "\n",
    "The `avoid_obstacle()` function is responsible for managing the situation when the player character in a game is stuck by an obstacle, which can be either a boulder or a river.\n",
    "It takes in several parameters:\n",
    "* `game_map`: represents the game map as a matrix\n",
    "* `player_position`: the current position of the player\n",
    "* `direction`: indicates the direction the player is going\n",
    "* `env`: represents the game environment.\n",
    "\n",
    "The function begins by calling the `get_obstacle_location()` function to determine the position of the obstacle in front of the player based on their current position and direction.\n",
    "\n",
    "Next, the function checks if the obstacle is a river or a boulder and then handles different scenarios based on the direction the player is going."
   ]
  },
  {
   "cell_type": "markdown",
   "metadata": {},
   "source": [
    "### Pushing position - "
   ]
  },
  {
   "cell_type": "markdown",
   "metadata": {},
   "source": [
    "## Environment\n",
    "We create the environment again, this time we don't give a fixed seed so that the environment is generated randomly at each execution."
   ]
  },
  {
   "cell_type": "code",
   "execution_count": 1,
   "metadata": {},
   "outputs": [],
   "source": [
    "import gym\n",
    "import minihack\n",
    "import numpy as np\n",
    "import math\n",
    "import matplotlib.pyplot as plt\n",
    "import IPython.display as display\n",
    "from typing import Tuple, List\n",
    "from utils import *\n",
    "from algorithms import *\n",
    "from logic import *\n",
    "from evaluation import *"
   ]
  },
  {
   "cell_type": "code",
   "execution_count": 2,
   "metadata": {},
   "outputs": [
    {
     "data": {
      "image/png": "[encoded data removed]",
      "text/plain": [
       "<Figure size 640x480 with 1 Axes>"
      ]
     },
     "metadata": {},
     "output_type": "display_data"
    }
   ],
   "source": [
    "state, env = create_env()\n",
    "plt.imshow(state['pixel'][100:250, 400:750]) \n",
    "game_map = state['chars']\n",
    "game = state['pixel']\n",
    "color_map = state['colors']"
   ]
  },
  {
   "cell_type": "code",
   "execution_count": 3,
   "metadata": {},
   "outputs": [
    {
     "data": {
      "image/png": "[encoded data removed]",
      "text/plain": [
       "<Figure size 640x480 with 1 Axes>"
      ]
     },
     "metadata": {},
     "output_type": "display_data"
    }
   ],
   "source": [
    "black_list_boulder  = []\n",
    "obs, current_river_target, len = push_one_boulder_into_river(state, env, black_list_boulder, plot=True)\n",
    "while current_river_target is None or obs['chars'][current_river_target] == ord(\"}\"):\n",
    "    obs, current_river_target, len = push_one_boulder_into_river(obs, env, black_list_boulder, plot=True)\n",
    "\n",
    "game_map = obs['chars']\n",
    "game_gui = obs['pixel']\n",
    "\n",
    "#Step into the river\n",
    "player_pos = get_player_location(game_map)\n",
    "action, name = action_map(player_pos, current_river_target)\n",
    "obs, _,_,_ = env.step(action)\n"
   ]
  },
  {
   "cell_type": "code",
   "execution_count": 4,
   "metadata": {},
   "outputs": [
    {
     "name": "stdout",
     "output_type": "stream",
     "text": [
      "0.0\n",
      "0.0\n",
      "0.0\n",
      "1.0\n",
      "The agent reached the exit\n"
     ]
    },
    {
     "data": {
      "image/png": "[encoded data removed]",
      "text/plain": [
       "<Figure size 640x480 with 1 Axes>"
      ]
     },
     "metadata": {},
     "output_type": "display_data"
    }
   ],
   "source": [
    "#Go to the stairs\n",
    "game_map = obs['chars']\n",
    "game_gui = obs['pixel']\n",
    "\n",
    "player_pos = get_player_location(game_map)\n",
    "exit_pos = get_exit_location(game_map)\n",
    "\n",
    "path_to_exit = a_star(game_map, player_pos, exit_pos, False, False, get_optimal_distance_point_to_point)\n",
    "actions_to_exit,names = actions_from_path(player_pos, path_to_exit[1:])\n",
    "rewards = plot_animated_sequence(env, game_gui, game_map, actions_to_exit)\n",
    "\n",
    "if(rewards[-1] == 1):\n",
    "    print(\"The agent reached the exit\")"
   ]
  },
  {
   "cell_type": "markdown",
   "metadata": {},
   "source": [
    "# Evaluation\n",
    "In this section we perform multiple trials on the two solutions showing the metrics:\n",
    "* The percentage of successfully completed games out of n trials\n",
    "* The average number of steps done on successful games\n",
    "* The execution time on successful games"
   ]
  },
  {
   "cell_type": "code",
   "execution_count": 5,
   "metadata": {},
   "outputs": [
    {
     "name": "stdout",
     "output_type": "stream",
     "text": [
      "\n",
      "Starting test: A* classic\n",
      "\n",
      "Successfully completed:  56 / 100  =  56.00000000000001 %\n",
      "Average number of steps:  17.142857142857142\n",
      "Average time per success:  0.07232209188597542 \n",
      "\n",
      "Average total succesfully completed:  56.00000000000001 %\n",
      "Average total steps:  17.142857142857142\n",
      "Average total time:  0.07232209188597542 \n",
      "\n"
     ]
    }
   ],
   "source": [
    "test_classic_a_star(100, 1) # number of games, trials"
   ]
  },
  {
   "cell_type": "code",
   "execution_count": 6,
   "metadata": {},
   "outputs": [
    {
     "name": "stdout",
     "output_type": "stream",
     "text": [
      "\n",
      "Starting test: A* online\n",
      "\n",
      "Successfully completed:  99 / 100  =  99.0 %\n",
      "Average number of steps:  20.717171717171716\n",
      "Average time per success:  0.10613737925134524 \n",
      "\n",
      "Average total succesfully completed:  99.0 %\n",
      "Average total steps:  20.717171717171716\n",
      "Average total time:  0.10613737925134524 \n",
      "\n"
     ]
    }
   ],
   "source": [
    "test_online_a_star(100, 1)"
   ]
  },
  {
   "cell_type": "markdown",
   "metadata": {},
   "source": [
    "## Results\n",
    "This are the results that we have obtained executing 300 games for 10 trials\n",
    "\n",
    "TODO: show image with the results (the same of the presentation with updated results)\n",
    "\n",
    "First, we see a very significant improvement in the success rate, this increase rate emphasizes the greater flexibility and adaptability \n",
    "of online A*.\n",
    "\n",
    "Looking instead at the average number of steps, we can note that despite a slight variation, online A* demonstrates a remarkable ability to adapt to evolving situations while still maintaining competitive performance. \n",
    "In fact, this variation is justifiable considering the increased complexity of situations addressed by our solution because for example sometimes it is necessary to change one's mind and take a different path, but as you can see it does not compromise overall efficiency.\n",
    "\n",
    "Finally, while our implementation  requires a relative increase in execution times, this difference is minimal because in our interpretation it is a good price to pay compared to the significant improvements in the success rate.\n",
    "\n",
    "In conclusion we can say that there is an effective balance between efficiency and adaptability and this collected data confirm the validity of our modifications and making it, why not, a robust option for dynamic scenarios.\n"
   ]
  },
  {
   "cell_type": "markdown",
   "metadata": {},
   "source": [
    "## TorchBeast\n",
    "https://minihack.readthedocs.io/en/latest/agents/torchbeast.html \\\n",
    "https://wandb.ai/minihack/minihack-navigation/groups/River-Narrow-RIDE/?workspace=user- \\"
   ]
  },
  {
   "cell_type": "markdown",
   "metadata": {},
   "source": [
    "# Conclusions"
   ]
  },
  {
   "cell_type": "markdown",
   "metadata": {},
   "source": [
    "# Appendix\n",
    "\n",
    "### Teamwork \n",
    "After we have chosen a this project with unanimity, for the first weeks we splitted the work in two main task \"Path\" and \"Logic\". This has made easy to work with a pair programming approach in 2 groups, communicating the functions required from each other. Following this organization really boosted the initial productivity. Finally we did a merge of the \"Path\" and \"Logic\" modules. \\\n",
    "From this point we did a meeting every week to updated a pool of task available so that each member could contribute indipendently, going back to the pair programming approach just for the hardest problems. \\\n",
    "For the presentation we splitted in exact equal parts the slides and time of speech.\n",
    "\n",
    "\n",
    "### Github\n",
    "\n",
    "### Relationship with the course ???"
   ]
  },
  {
   "cell_type": "markdown",
   "metadata": {},
   "source": []
  }
 ],
 "metadata": {
  "kernelspec": {
   "display_name": "minihack",
   "language": "python",
   "name": "python3"
  },
  "language_info": {
   "codemirror_mode": {
    "name": "ipython",
    "version": 3
   },
   "file_extension": ".py",
   "mimetype": "text/x-python",
   "name": "python",
   "nbconvert_exporter": "python",
   "pygments_lexer": "ipython3",
   "version": "3.9.10"
  }
 },
 "nbformat": 4,
 "nbformat_minor": 2
}
