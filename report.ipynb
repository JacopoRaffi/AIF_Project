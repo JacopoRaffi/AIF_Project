{
 "cells": [
  {
   "cell_type": "markdown",
   "metadata": {},
   "source": [
    "# Minihack Crossing River\n",
    "Team: Can do (M)AI \\\n",
    "Members: Andrea Piras, Chiara Cecchetti, Jacopo Raffi, Nicola Emmolo\n",
    "Course: Artificial AI Fundamentals 2023/2024\n",
    "\n",
    "## Overview of the project\n",
    "The project Minihack Crossing River is based on the standard environment \"River\" of the MiniHack Environment Zoo (https://minihack.readthedocs.io/en/latest/envs/navigation/river.html).\n",
    "The final goal of the agent in this task is to reach the stairs which are in the other side of the river. To cross the river the agent mush push one boulder into the it which becomes crossable and finally he can reach the stairs.\n",
    "\n",
    "The goal of this project is to find a solution that is able to complete as much games as possibile in the most efficient way in time and in the number of steps done.\n",
    "\n",
    "We will show two solutions, the first one is the classic A star algorithm. And the second, our custom solution which we call Online A star which is based on the classic A star algorithm enhanced with a knowledge based approach.\n",
    "\n",
    "Finally, we show an empirical evaluation comparing this two solutions. "
   ]
  },
  {
   "cell_type": "markdown",
   "metadata": {},
   "source": []
  },
  {
   "cell_type": "markdown",
   "metadata": {},
   "source": [
    "## Imports required"
   ]
  },
  {
   "cell_type": "code",
   "execution_count": 1,
   "metadata": {},
   "outputs": [],
   "source": [
    "import gym\n",
    "import minihack\n",
    "import numpy as np\n",
    "import math\n",
    "import matplotlib.pyplot as plt\n",
    "import IPython.display as display\n",
    "from typing import Tuple, List\n",
    "from utils import *\n",
    "from algorithms import *\n",
    "from logic import *"
   ]
  },
  {
   "cell_type": "markdown",
   "metadata": {},
   "source": [
    "## Environment\n",
    "First we create and visualize the environment using \"Minihack-River-Narrow-V0\", one of the standard environments of MiniHack Environment Zoo. The environment changes at each execution including the starting position of the agent, the boulder, the river and the visibility (black cells)."
   ]
  },
  {
   "cell_type": "code",
   "execution_count": 2,
   "metadata": {},
   "outputs": [
    {
     "data": {
      "image/png": "[encoded data removed]",
      "text/plain": [
       "<Figure size 640x480 with 1 Axes>"
      ]
     },
     "metadata": {},
     "output_type": "display_data"
    }
   ],
   "source": [
    "state, env = create_env()\n",
    "plt.imshow(state['pixel'][100:250, 400:750]) #Immagine ristretta con range [y][x]\n",
    "game_map = state['chars']\n",
    "game = state['pixel']\n",
    "color_map = state['colors']"
   ]
  },
  {
   "cell_type": "markdown",
   "metadata": {},
   "source": [
    "## Agent, boulder, river\n",
    "Now that the environment is created we find the coordinates of the the agent, boulders and river. Once we have obtained all the coordinates we select the boulder to push and the river cell in which the boulder has to be pushed."
   ]
  },
  {
   "cell_type": "code",
   "execution_count": 3,
   "metadata": {},
   "outputs": [
    {
     "name": "stdout",
     "output_type": "stream",
     "text": [
      "Agent starting position:  (9, 35) Boulders positions:  [(8, 32), (9, 29), (9, 38), (10, 29), (12, 30)] River positions:  [(7, 46), (11, 46), (12, 46), (13, 46)]\n"
     ]
    }
   ],
   "source": [
    "start = get_player_location(game_map)\n",
    "boulders = get_boulder_locations(game_map, [])\n",
    "river_positions = find_river(env,game_map)\n",
    "print(\"Agent starting position: \", start, \"Boulders positions: \", boulders, \"River positions: \", river_positions)"
   ]
  },
  {
   "cell_type": "markdown",
   "metadata": {},
   "source": [
    "We select the most convenient boulder to push into the the river, once it is computed we find the river cell in which the boulder has to be dropped."
   ]
  },
  {
   "cell_type": "code",
   "execution_count": 4,
   "metadata": {},
   "outputs": [
    {
     "name": "stdout",
     "output_type": "stream",
     "text": [
      "Boulder to push:  (9, 38) River cell of destination:  (7, 46)\n"
     ]
    }
   ],
   "source": [
    "coordinates_min_boulder = get_best_global_distance(start, boulders, river_positions)\n",
    "temp = get_min_distance_point_to_points(coordinates_min_boulder[0],coordinates_min_boulder[1], river_positions)\n",
    "final_position = tuple(temp[0])\n",
    "print(\"Boulder to push: \", coordinates_min_boulder, \"River cell of destination: \", final_position)"
   ]
  },
  {
   "cell_type": "markdown",
   "metadata": {},
   "source": [
    "# Path\n",
    "In this section we use the classic A star algorithm to compute the path first from the boulder to the river, then from the agent to the boulder pushing positions.\n",
    "The boulder pushing position is the cell in which the agent has to be to push the boulder in the correct direction.\n",
    "\n",
    "TODO: talk about chebyshev and a star in general\n",
    "\n",
    "We compute in this order:\n",
    "* The path that the boulder has to follow to reach the correct river cell\n",
    "* The correct pushing position of the boulder\n",
    "* The path that agent has to follow to reach the pushing position"
   ]
  },
  {
   "cell_type": "code",
   "execution_count": 5,
   "metadata": {},
   "outputs": [],
   "source": [
    "path_boulder_river = a_star(game_map, coordinates_min_boulder,final_position, True, False, get_optimal_distance_point_to_point)\n",
    "pushing_position = position_for_boulder_push(coordinates_min_boulder, path_boulder_river[1])[1]\n",
    "path_player_to_pushing_position = a_star(game_map, start,  pushing_position,False,False, get_optimal_distance_point_to_point)\n"
   ]
  },
  {
   "cell_type": "markdown",
   "metadata": {},
   "source": [
    "After we have computed the path that the boulder has to do to reach the river, we have to derive from it the path that the agent has to do in order to follow the boulder pushing it. Finally we obtain the full path that the agent has to do to reach the river."
   ]
  },
  {
   "cell_type": "code",
   "execution_count": 6,
   "metadata": {},
   "outputs": [],
   "source": [
    "try:\n",
    "    _, path_player_to_river = push_boulder_path(path_boulder_river)\n",
    "    path_player_to_river = path_player_to_river[1:] # Remove the first element because the agent is already in the pushing position\n",
    "    agent_full_path = path_player_to_pushing_position + path_player_to_river\n",
    "    agent_full_path.append(path_boulder_river[-1]) # Add the river position so the agent steps where there was the river\n",
    "except Exception as e:\n",
    "    print(\"An error occurred:\", str(e))\n"
   ]
  },
  {
   "cell_type": "markdown",
   "metadata": {},
   "source": [
    "## Actions\n",
    "In this section we translate the path obtained in actual actions and we execute the steps. \n",
    "TODO: talk about reward"
   ]
  },
  {
   "cell_type": "code",
   "execution_count": 7,
   "metadata": {},
   "outputs": [
    {
     "name": "stdout",
     "output_type": "stream",
     "text": [
      "Rewards: \n",
      "0.0\n",
      "0.0\n",
      "0.0\n",
      "0.0\n",
      "0.0\n",
      "0.0\n",
      "0.0\n",
      "0.0\n",
      "0.0\n",
      "0.0\n",
      "0.0\n",
      "0.0\n",
      "0.0\n",
      "0.0\n",
      "Total reward:  0.0\n"
     ]
    },
    {
     "data": {
      "image/png": "[encoded data removed]",
      "text/plain": [
       "<Figure size 640x480 with 1 Axes>"
      ]
     },
     "metadata": {},
     "output_type": "display_data"
    }
   ],
   "source": [
    "actions, names = actions_from_path(start, agent_full_path) \n",
    "player_pos = plot_animated_sequence(env,game, game_map,actions[1:]) #Remove first action because it is the start position"
   ]
  },
  {
   "cell_type": "code",
   "execution_count": null,
   "metadata": {},
   "outputs": [],
   "source": []
  }
 ],
 "metadata": {
  "kernelspec": {
   "display_name": "minihack",
   "language": "python",
   "name": "python3"
  },
  "language_info": {
   "codemirror_mode": {
    "name": "ipython",
    "version": 3
   },
   "file_extension": ".py",
   "mimetype": "text/x-python",
   "name": "python",
   "nbconvert_exporter": "python",
   "pygments_lexer": "ipython3",
   "version": "3.9.10"
  }
 },
 "nbformat": 4,
 "nbformat_minor": 2
}
