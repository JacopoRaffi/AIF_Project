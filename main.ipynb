{
 "cells": [
  {
   "cell_type": "markdown",
   "metadata": {},
   "source": [
    "# Main testing"
   ]
  },
  {
   "cell_type": "code",
   "execution_count": null,
   "metadata": {},
   "outputs": [],
   "source": [
    "import gym\n",
    "import minihack\n",
    "import numpy as np\n",
    "import math\n",
    "import matplotlib.pyplot as plt\n",
    "import IPython.display as display\n",
    "from typing import Tuple, List\n"
   ]
  },
  {
   "cell_type": "markdown",
   "metadata": {},
   "source": [
    "## Creazione dell environment"
   ]
  },
  {
   "cell_type": "code",
   "execution_count": null,
   "metadata": {},
   "outputs": [],
   "source": [
    "env = gym.make(\"MiniHack-River-Narrow-v0\", observation_keys=(\"chars\", \"pixel\"))\n",
    "state = env.reset()\n",
    "env.render()"
   ]
  },
  {
   "cell_type": "code",
   "execution_count": null,
   "metadata": {},
   "outputs": [],
   "source": [
    "state['chars'].shape, state['pixel'].shape"
   ]
  },
  {
   "cell_type": "code",
   "execution_count": null,
   "metadata": {},
   "outputs": [],
   "source": [
    "plt.imshow(state['pixel'][100:250, 400:750]) #Immagine ristretta con range [y][x]"
   ]
  },
  {
   "cell_type": "code",
   "execution_count": null,
   "metadata": {},
   "outputs": [],
   "source": [
    "game_map = state['chars']\n",
    "game = state['pixel']"
   ]
  },
  {
   "cell_type": "markdown",
   "metadata": {},
   "source": [
    "## Cerco le coordinate\n",
    "Cerco le coordinate del player e di tutti i blocchi presenti sulla mappa e del fiume"
   ]
  },
  {
   "cell_type": "code",
   "execution_count": null,
   "metadata": {},
   "outputs": [],
   "source": [
    "#Restituisce la lista delle posizioni di tutti i massi\n",
    "def get_boulder_locationV(game_map: np.ndarray, symbol : str = \"`\") -> Tuple[int, int]:\n",
    "    tuples = np.where(game_map == ord(symbol))\n",
    "    boulders_positions = list(zip(tuples[0], tuples[1])) #converte la lista di tuple in una lista di liste\n",
    "    return boulders_positions"
   ]
  },
  {
   "cell_type": "code",
   "execution_count": null,
   "metadata": {},
   "outputs": [],
   "source": [
    "#Restituisce la posizione del giocatore\n",
    "def get_player_location(game_map: np.ndarray, symbol : str = \"@\") -> Tuple[int, int]:\n",
    "    x, y = np.where(game_map == ord(symbol))\n",
    "    return (x[0], y[0])"
   ]
  },
  {
   "cell_type": "code",
   "execution_count": null,
   "metadata": {},
   "outputs": [],
   "source": [
    "start = get_player_location(game_map)\n",
    "boulders = get_boulder_locationV(game_map)\n",
    "print(\"Agent position:\", start)\n"
   ]
  },
  {
   "cell_type": "markdown",
   "metadata": {},
   "source": [
    "Coordinate di tutti i blocchi presenti"
   ]
  },
  {
   "cell_type": "code",
   "execution_count": null,
   "metadata": {},
   "outputs": [],
   "source": [
    "boulders"
   ]
  },
  {
   "cell_type": "code",
   "execution_count": null,
   "metadata": {},
   "outputs": [],
   "source": []
  },
  {
   "cell_type": "code",
   "execution_count": null,
   "metadata": {},
   "outputs": [],
   "source": [
    "# Trovare la distanza tra due punti senza considerare movimenti diagonali\n",
    "def manhattan_distance(x1 : int, y1 : int, x2 : int, y2 : int):    \n",
    "    return abs(x1 - x2) + abs(y1 - y2)\n",
    "    "
   ]
  },
  {
   "cell_type": "code",
   "execution_count": null,
   "metadata": {},
   "outputs": [],
   "source": [
    "# Trova la distanza fra due punti considerando anche movimenti diagonali\n",
    "def chebyshev_dist(x1 : int, y1 : int, x2 : int, y2 : int): \n",
    "    y_dist = abs(y1 - y2)\n",
    "    x_dist = abs(x1 - x2)\n",
    "    return max(y_dist, x_dist)"
   ]
  },
  {
   "cell_type": "code",
   "execution_count": null,
   "metadata": {},
   "outputs": [],
   "source": [
    "#Trova la minima distanza tra un punto e una serie di punti considerando movimenti diagonali\n",
    "def min_distance(x,y, list_of_pairs):\n",
    "    min_dist = 999999999\n",
    "    for i in list_of_pairs:\n",
    "        dist = chebyshev_dist(x,y,i[0],i[1])\n",
    "        if dist < min_dist:\n",
    "            min_dist = dist\n",
    "            coordinates = [i[0],i[1]]\n",
    "    return coordinates, min_dist\n"
   ]
  },
  {
   "cell_type": "markdown",
   "metadata": {},
   "source": [
    "Calcolo la distanza del player dal blocco più vicino"
   ]
  },
  {
   "cell_type": "code",
   "execution_count": null,
   "metadata": {},
   "outputs": [],
   "source": [
    "target_block_position, distance = min_distance(start[0],start[1],boulders)\n",
    "print(\"Target position:\", target_block_position, \"Distance:\", distance)"
   ]
  },
  {
   "cell_type": "markdown",
   "metadata": {},
   "source": [
    "### Cerco le posizioni del fiume"
   ]
  },
  {
   "cell_type": "code",
   "execution_count": null,
   "metadata": {},
   "outputs": [],
   "source": [
    "def get_river_locationV(game_map: np.ndarray, symbol : str = \"}\") -> Tuple[int, int]:\n",
    "    tuples = np.where(game_map == ord(symbol))\n",
    "    river_positions = list(zip(tuples[0], tuples[1])) #converte la lista di tuple in una lista di liste\n",
    "    return river_positions"
   ]
  },
  {
   "cell_type": "code",
   "execution_count": null,
   "metadata": {},
   "outputs": [],
   "source": [
    "river_positions = get_river_locationV(game_map)"
   ]
  },
  {
   "cell_type": "code",
   "execution_count": null,
   "metadata": {},
   "outputs": [],
   "source": [
    "#Lista con le posizioni del fiume\n",
    "river_positions"
   ]
  },
  {
   "cell_type": "code",
   "execution_count": null,
   "metadata": {},
   "outputs": [],
   "source": [
    "def get_minDist_boulder_to_river(boulderX : int, boulderY : int, river_positions) -> tuple[int,int,int]:\n",
    "    minDist = 999999999\n",
    "    for (x,y) in river_positions:\n",
    "        riverX = x\n",
    "        riverY = y\n",
    "        \n",
    "        dist = manhattan_distance(boulderX,boulderY,riverX,riverY)\n",
    "        if dist < minDist :\n",
    "            minDist = dist\n",
    "            X = riverX\n",
    "            Y = riverY\n",
    "            \n",
    "    return (X,Y,minDist)"
   ]
  },
  {
   "cell_type": "code",
   "execution_count": null,
   "metadata": {},
   "outputs": [],
   "source": [
    "boulders[0][0]"
   ]
  },
  {
   "cell_type": "code",
   "execution_count": null,
   "metadata": {},
   "outputs": [],
   "source": [
    "j = get_minDist_boulder_to_river(boulders[0][0],boulders[0][1], river_positions)"
   ]
  },
  {
   "cell_type": "code",
   "execution_count": null,
   "metadata": {},
   "outputs": [],
   "source": [
    "j"
   ]
  },
  {
   "cell_type": "code",
   "execution_count": null,
   "metadata": {},
   "outputs": [],
   "source": [
    "#Get the best distance from player to boulder and boulder to river.\n",
    "def get_best_global_distance(start: Tuple[int, int], boulders: List[List]) -> List[int]:\n",
    "    distances = []\n",
    "\n",
    "    for boulder in boulders:\n",
    "        dist_player_boulder = chebyshev_dist(start[0],start[1], boulder[0], boulder[1])\n",
    "        \n",
    "        dist_boulder_river = get_minDist_boulder_to_river(boulder[0],boulder[1], river_positions)\n",
    "        dist = dist_player_boulder + dist_boulder_river[2]\n",
    "        distances.append((dist))\n",
    "\n",
    "    return distances\n",
    "    "
   ]
  },
  {
   "cell_type": "code",
   "execution_count": null,
   "metadata": {},
   "outputs": [],
   "source": [
    "#Get the best distance from player to boulder and boulder to river.\n",
    "def get_best_global_distance2(start: Tuple[int, int], boulder : Tuple[int,int]) -> int:\n",
    "    boulderX = boulder[0]\n",
    "    boulderY = boulder[1]\n",
    "    dist_player_boulder = chebyshev_dist(start[0],start[1], boulderX, boulderY)\n",
    "    \n",
    "    dist_boulder_river = get_minDist_boulder_to_river(boulder[0],boulder[1], river_positions)\n",
    "    dist = dist_player_boulder + dist_boulder_river[2]\n",
    "\n",
    "    return dist"
   ]
  },
  {
   "cell_type": "code",
   "execution_count": null,
   "metadata": {},
   "outputs": [],
   "source": [
    "#Get the best distance from player to boulder and boulder to river.\n",
    "def get_best_distance_player_to_boulder(start: Tuple[int, int], boulder : Tuple[int,int]) -> int:\n",
    "    boulderX = boulder[0]\n",
    "    boulderY = boulder[1]\n",
    "    dist_player_boulder = chebyshev_dist(start[0],start[1], boulderX, boulderY)\n",
    "    \n",
    "    dist = dist_player_boulder -1\n",
    "\n",
    "    return dist      "
   ]
  },
  {
   "cell_type": "code",
   "execution_count": null,
   "metadata": {},
   "outputs": [],
   "source": [
    "def get_best_distance_boulder_to_river(start: Tuple[int, int], boulder : Tuple[int,int]) -> int:\n",
    "    boulderX = boulder[0]\n",
    "    boulderY = boulder[1]\n",
    "    \n",
    "    dist_boulder_river = get_minDist_boulder_to_river(boulder[0],boulder[1], river_positions)\n",
    "    dist = dist_boulder_river[2]\n",
    "\n",
    "    return dist"
   ]
  },
  {
   "cell_type": "code",
   "execution_count": null,
   "metadata": {},
   "outputs": [],
   "source": [
    "distances = get_best_global_distance(start, boulders)"
   ]
  },
  {
   "cell_type": "code",
   "execution_count": null,
   "metadata": {},
   "outputs": [],
   "source": [
    "distances"
   ]
  },
  {
   "cell_type": "code",
   "execution_count": null,
   "metadata": {},
   "outputs": [],
   "source": [
    "from algorithms import a_star\n",
    "from utils import *"
   ]
  },
  {
   "cell_type": "code",
   "execution_count": null,
   "metadata": {},
   "outputs": [],
   "source": [
    "boulders[0]"
   ]
  },
  {
   "cell_type": "code",
   "execution_count": null,
   "metadata": {},
   "outputs": [],
   "source": [
    "path1 = a_star(game,game_map, start, boulders[1], get_best_distance_player_to_boulder)"
   ]
  },
  {
   "cell_type": "code",
   "execution_count": null,
   "metadata": {},
   "outputs": [],
   "source": [
    "path1"
   ]
  },
  {
   "cell_type": "code",
   "execution_count": null,
   "metadata": {},
   "outputs": [],
   "source": [
    "actions, names = actions_from_path(start, path1[1:])\n",
    "\n",
    "actions\n",
    "\n"
   ]
  },
  {
   "cell_type": "code",
   "execution_count": null,
   "metadata": {},
   "outputs": [],
   "source": [
    "names"
   ]
  },
  {
   "cell_type": "code",
   "execution_count": null,
   "metadata": {},
   "outputs": [],
   "source": [
    "agent = get_player_location(game_map)\n",
    "\n",
    "agent"
   ]
  },
  {
   "cell_type": "code",
   "execution_count": null,
   "metadata": {},
   "outputs": [],
   "source": [
    "image = plt.imshow(game[25:300, :475])\n",
    "for action in actions:\n",
    "    s, _, _, _ = env.step(action)\n",
    "    display.display(plt.gcf())\n",
    "    display.clear_output(wait=True)\n",
    "    image.set_data(s['pixel'][:, :])"
   ]
  },
  {
   "cell_type": "code",
   "execution_count": null,
   "metadata": {},
   "outputs": [],
   "source": [
    "get_best_distance_boulder_to_river(start, boulders[1])"
   ]
  },
  {
   "cell_type": "code",
   "execution_count": null,
   "metadata": {},
   "outputs": [],
   "source": [
    "plt.imshow(game[:, :])"
   ]
  }
 ],
 "metadata": {
  "kernelspec": {
   "display_name": "minihack",
   "language": "python",
   "name": "python3"
  },
  "language_info": {
   "codemirror_mode": {
    "name": "ipython",
    "version": 3
   },
   "file_extension": ".py",
   "mimetype": "text/x-python",
   "name": "python",
   "nbconvert_exporter": "python",
   "pygments_lexer": "ipython3",
   "version": "3.10.12"
  }
 },
 "nbformat": 4,
 "nbformat_minor": 2
}
