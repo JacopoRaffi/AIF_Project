{
 "cells": [
  {
   "cell_type": "code",
   "execution_count": 95,
   "metadata": {},
   "outputs": [],
   "source": [
    "import gym\n",
    "import minihack\n",
    "import numpy as np\n",
    "import math\n",
    "import matplotlib.pyplot as plt\n",
    "import IPython.display as display\n",
    "from typing import Tuple, List\n",
    "from utils import *\n",
    "from algorithms import *\n",
    "from logic import *"
   ]
  },
  {
   "cell_type": "code",
   "execution_count": 96,
   "metadata": {},
   "outputs": [],
   "source": [
    "env = gym.make(\"MiniHack-River-Narrow-v0\", observation_keys=(\"chars\", \"pixel\"))\n",
    "state = env.reset()"
   ]
  },
  {
   "cell_type": "code",
   "execution_count": 97,
   "metadata": {},
   "outputs": [
    {
     "data": {
      "text/plain": [
       "<matplotlib.image.AxesImage at 0x7f7ea71474f0>"
      ]
     },
     "execution_count": 97,
     "metadata": {},
     "output_type": "execute_result"
    },
    {
     "data": {
      "image/png": "[encoded data removed]",
      "text/plain": [
       "<Figure size 640x480 with 1 Axes>"
      ]
     },
     "metadata": {},
     "output_type": "display_data"
    }
   ],
   "source": [
    "plt.imshow(state['pixel'][100:250, 400:750]) # Immagine ristretta con range [y][x]"
   ]
  },
  {
   "cell_type": "code",
   "execution_count": 98,
   "metadata": {},
   "outputs": [
    {
     "ename": "IndexError",
     "evalue": "list index out of range",
     "output_type": "error",
     "traceback": [
      "\u001b[0;31m---------------------------------------------------------------------------\u001b[0m",
      "\u001b[0;31mIndexError\u001b[0m                                Traceback (most recent call last)",
      "Cell \u001b[0;32mIn[98], line 1\u001b[0m\n\u001b[0;32m----> 1\u001b[0m \u001b[43mpush_one_boulder_into_river\u001b[49m\u001b[43m(\u001b[49m\u001b[43mstate\u001b[49m\u001b[43m,\u001b[49m\u001b[43m \u001b[49m\u001b[43menv\u001b[49m\u001b[43m)\u001b[49m\n",
      "File \u001b[0;32m~/Desktop/Minihack_Crossing_River/algorithms.py:214\u001b[0m, in \u001b[0;36mpush_one_boulder_into_river\u001b[0;34m(state, env, target)\u001b[0m\n\u001b[1;32m    212\u001b[0m nearest_pushing_position \u001b[38;5;241m=\u001b[39m pushing_position\n\u001b[1;32m    213\u001b[0m \u001b[38;5;28;01mif\u001b[39;00m game_map[pushing_position] \u001b[38;5;241m==\u001b[39m \u001b[38;5;28mord\u001b[39m(\u001b[38;5;124m\"\u001b[39m\u001b[38;5;124m \u001b[39m\u001b[38;5;124m\"\u001b[39m): \u001b[38;5;66;03m# the target is an unseen block\u001b[39;00m\n\u001b[0;32m--> 214\u001b[0m     nearest_pushing_position \u001b[38;5;241m=\u001b[39m \u001b[43mget_neighbour_pushing_position\u001b[49m\u001b[43m(\u001b[49m\u001b[43mgame_map\u001b[49m\u001b[43m,\u001b[49m\u001b[43m \u001b[49m\u001b[43mpushing_position\u001b[49m\u001b[43m,\u001b[49m\u001b[43m \u001b[49m\u001b[43mcoordinates_min_boulder\u001b[49m\u001b[43m)\u001b[49m \u001b[38;5;66;03m#!!!Nearest position to the boulder pushing pos\u001b[39;00m\n\u001b[1;32m    215\u001b[0m     hasBoulder \u001b[38;5;241m=\u001b[39m \u001b[38;5;28;01mFalse\u001b[39;00m \u001b[38;5;66;03m#The river is considered as an obstacle\u001b[39;00m\n\u001b[1;32m    216\u001b[0m     path_player_to_pushing_position \u001b[38;5;241m=\u001b[39m a_star(game_map, start, nearest_pushing_position, hasBoulder, \u001b[38;5;28;01mTrue\u001b[39;00m, get_optimal_distance_point_to_point)\n",
      "File \u001b[0;32m~/Desktop/Minihack_Crossing_River/algorithms.py:392\u001b[0m, in \u001b[0;36mget_neighbour_pushing_position\u001b[0;34m(game_map, pushing_position, boulder_position)\u001b[0m\n\u001b[1;32m    389\u001b[0m         \u001b[38;5;28;01mif\u001b[39;00m \u001b[38;5;129;01mnot\u001b[39;00m is_obstacle(game_map[nx, ny], pushing_position, (nx, ny)) \u001b[38;5;129;01mand\u001b[39;00m \u001b[38;5;129;01mnot\u001b[39;00m (nx, ny) \u001b[38;5;241m==\u001b[39m boulder_position:\n\u001b[1;32m    390\u001b[0m             neighbours\u001b[38;5;241m.\u001b[39mappend((nx, ny))\n\u001b[0;32m--> 392\u001b[0m \u001b[38;5;28;01mreturn\u001b[39;00m \u001b[43mneighbours\u001b[49m\u001b[43m[\u001b[49m\u001b[38;5;241;43m0\u001b[39;49m\u001b[43m]\u001b[49m\n",
      "\u001b[0;31mIndexError\u001b[0m: list index out of range"
     ]
    }
   ],
   "source": [
    "push_one_boulder_into_river(state, env)"
   ]
  },
  {
   "cell_type": "code",
   "execution_count": 5,
   "metadata": {},
   "outputs": [
    {
     "data": {
      "text/plain": [
       "(10, 45)"
      ]
     },
     "execution_count": 5,
     "metadata": {},
     "output_type": "execute_result"
    }
   ],
   "source": [
    "get_player_location(state[\"chars\"])"
   ]
  },
  {
   "cell_type": "code",
   "execution_count": null,
   "metadata": {},
   "outputs": [],
   "source": []
  }
 ],
 "metadata": {
  "kernelspec": {
   "display_name": "minihack",
   "language": "python",
   "name": "python3"
  },
  "language_info": {
   "codemirror_mode": {
    "name": "ipython",
    "version": 3
   },
   "file_extension": ".py",
   "mimetype": "text/x-python",
   "name": "python",
   "nbconvert_exporter": "python",
   "pygments_lexer": "ipython3",
   "version": "3.9.10"
  }
 },
 "nbformat": 4,
 "nbformat_minor": 2
}
